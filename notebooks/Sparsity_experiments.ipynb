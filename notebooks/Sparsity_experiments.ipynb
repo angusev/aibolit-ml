{
  "nbformat": 4,
  "nbformat_minor": 0,
  "metadata": {
    "colab": {
      "name": "Sparsity_experiments",
      "provenance": [],
      "collapsed_sections": [],
      "machine_shape": "hm"
    },
    "kernelspec": {
      "name": "python3",
      "display_name": "Python 3"
    },
    "language_info": {
      "codemirror_mode": {
        "name": "ipython",
        "version": 3
      },
      "file_extension": ".py",
      "mimetype": "text/x-python",
      "name": "python",
      "nbconvert_exporter": "python",
      "pygments_lexer": "ipython3",
      "version": "3.7.4"
    }
  },
  "cells": [
    {
      "cell_type": "code",
      "metadata": {
        "colab_type": "code",
        "id": "hf21z4JtSN-d",
        "outputId": "749b585a-784e-4069-b0da-34dd01d3c89a",
        "colab": {
          "base_uri": "https://localhost:8080/",
          "height": 69
        }
      },
      "source": [
        "import torch\n",
        "from torch.autograd import Variable\n",
        "import torch.nn.functional as F\n",
        "import torch.utils.data as Data\n",
        "\n",
        "import matplotlib.pyplot as plt\n",
        "%matplotlib inline\n",
        "\n",
        "import numpy as np\n",
        "import imageio\n",
        "import pandas as pd\n",
        "import pandas as pd\n",
        "import numpy as np\n",
        "from sklearn.linear_model import LinearRegression, Lasso, Ridge, HuberRegressor\n",
        "import matplotlib.pyplot as plt\n",
        "from sklearn.metrics import mean_squared_error, r2_score, mean_absolute_error, \\\n",
        "        explained_variance_score, mean_squared_log_error, mean_tweedie_deviance\n",
        "from sklearn.model_selection import GridSearchCV\n",
        "from sklearn.preprocessing import StandardScaler, MinMaxScaler\n",
        "from sklearn.decomposition import PCA\n",
        "import numpy as np\n",
        "from sklearn.ensemble import RandomForestRegressor\n",
        "from sklearn.model_selection import train_test_split\n",
        "from sklearn.preprocessing import PolynomialFeatures\n",
        "from sklearn import datasets, linear_model\n",
        "import statsmodels.api as sm\n",
        "from scipy import stats\n",
        "from sklearn.pipeline import Pipeline\n",
        "from sklearn.base import clone\n",
        "import seaborn as sns\n",
        "import pandas as pd\n",
        "from sklearn.preprocessing import StandardScaler\n",
        "import torch.optim as optim\n",
        "from tqdm import tqdm\n",
        "from sklearn.metrics import make_scorer\n",
        "from sklearn.base import BaseEstimator\n",
        "\n",
        "import lightgbm as lgbm"
      ],
      "execution_count": 1,
      "outputs": [
        {
          "output_type": "stream",
          "text": [
            "/usr/local/lib/python3.6/dist-packages/statsmodels/tools/_testing.py:19: FutureWarning: pandas.util.testing is deprecated. Use the functions in the public API at pandas.testing instead.\n",
            "  import pandas.util.testing as tm\n"
          ],
          "name": "stderr"
        }
      ]
    },
    {
      "cell_type": "code",
      "metadata": {
        "id": "O1_zRGio5Xq4",
        "colab_type": "code",
        "outputId": "17d4ea6c-3756-40a5-8865-bee6848ac6ae",
        "colab": {
          "base_uri": "https://localhost:8080/",
          "height": 135
        }
      },
      "source": [
        "from google.colab import drive\n",
        "GOOGLE_DRIVE_MOUNT = \"/content/gdrive\"\n",
        "drive.mount(GOOGLE_DRIVE_MOUNT)\n",
        "\n",
        "%cd /content/gdrive/My Drive/aibolit"
      ],
      "execution_count": 2,
      "outputs": [
        {
          "output_type": "stream",
          "text": [
            "Go to this URL in a browser: https://accounts.google.com/o/oauth2/auth?client_id=947318989803-6bn6qk8qdgf4n4g3pfee6491hc0brc4i.apps.googleusercontent.com&redirect_uri=urn%3aietf%3awg%3aoauth%3a2.0%3aoob&response_type=code&scope=email%20https%3a%2f%2fwww.googleapis.com%2fauth%2fdocs.test%20https%3a%2f%2fwww.googleapis.com%2fauth%2fdrive%20https%3a%2f%2fwww.googleapis.com%2fauth%2fdrive.photos.readonly%20https%3a%2f%2fwww.googleapis.com%2fauth%2fpeopleapi.readonly\n",
            "\n",
            "Enter your authorization code:\n",
            "··········\n",
            "Mounted at /content/gdrive\n",
            "/content/gdrive/My Drive/aibolit\n"
          ],
          "name": "stdout"
        }
      ]
    },
    {
      "cell_type": "code",
      "metadata": {
        "id": "Sle2l4D-2L4k",
        "colab_type": "code",
        "colab": {}
      },
      "source": [
        "def mean_absolute_percentage_error(y_true, y_pred):\n",
        "    y_true = np.array(y_true).reshape(-1)\n",
        "    y_pred = np.array(y_pred).reshape(-1)\n",
        "    return np.mean(np.abs((y_true - y_pred) / y_true)) * 100\n",
        "\n",
        "def print_scores(y_test, y_pred):\n",
        "    print('MSE: ', mean_squared_error(y_test, y_pred))\n",
        "    print('MAE: ', mean_absolute_error(y_test, y_pred))\n",
        "    print('MAPE:', mean_absolute_percentage_error(y_test, y_pred))\n",
        "    print('R2:  ', r2_score(y_test, y_pred))\n",
        "    print('VAR: ', np.var(y_test))"
      ],
      "execution_count": 0,
      "outputs": []
    },
    {
      "cell_type": "code",
      "metadata": {
        "colab_type": "code",
        "id": "lyfARHEkSZI2",
        "outputId": "4aa755e7-7b19-4c7b-c1d9-504d9d9133b4",
        "colab": {
          "base_uri": "https://localhost:8080/",
          "height": 32
        }
      },
      "source": [
        "COLUMNS_FEATURES =  [\n",
        "  'var_middle_number', 'this_find_number',\n",
        "  'string_concat_number', 'instance_of_number',\n",
        "  'method_chain_number', 'var_decl_diff_number_11', \n",
        "  'var_decl_diff_number_7', 'var_decl_diff_number_5', \n",
        "  'super_method_call_number', 'force_type_cast_number',\n",
        "  'entropy', 'halstead volume', 'ncss_method_avg',\n",
        "  'left_spaces_var','right_spaces_var','max_left_diff_spaces',\n",
        "  'max_right_diff_spaces'\n",
        "]\n",
        "\n",
        "ONLY_PATTERNS = [\n",
        "                 'var_middle_number', 'this_find_number','string_concat_number', \n",
        "                 'instance_of_number',\n",
        "                 'method_chain_number', 'var_decl_diff_number_11', \n",
        "                 'var_decl_diff_number_7', 'var_decl_diff_number_5', \n",
        "                 'super_method_call_number', 'force_type_cast_number']\n",
        "\n",
        "FEATURES_NUMBER = len(ONLY_PATTERNS)\n",
        "print(\"Number of featuers: \", FEATURES_NUMBER)"
      ],
      "execution_count": 0,
      "outputs": [
        {
          "output_type": "stream",
          "text": [
            "Number of featuers:  10\n"
          ],
          "name": "stdout"
        }
      ]
    },
    {
      "cell_type": "code",
      "metadata": {
        "id": "YzEq73lR3Scr",
        "colab_type": "code",
        "outputId": "7dc7fad0-ec01-46a1-93d8-05d0d8b0300a",
        "colab": {
          "base_uri": "https://localhost:8080/",
          "height": 247
        }
      },
      "source": [
        "! pip install catboost\n",
        "from catboost import CatBoostRegressor, CatBoost"
      ],
      "execution_count": 46,
      "outputs": [
        {
          "output_type": "stream",
          "text": [
            "Requirement already satisfied: catboost in /usr/local/lib/python3.6/dist-packages (0.23.2)\n",
            "Requirement already satisfied: numpy>=1.16.0 in /usr/local/lib/python3.6/dist-packages (from catboost) (1.18.5)\n",
            "Requirement already satisfied: graphviz in /usr/local/lib/python3.6/dist-packages (from catboost) (0.10.1)\n",
            "Requirement already satisfied: plotly in /usr/local/lib/python3.6/dist-packages (from catboost) (4.4.1)\n",
            "Requirement already satisfied: six in /usr/local/lib/python3.6/dist-packages (from catboost) (1.12.0)\n",
            "Requirement already satisfied: pandas>=0.24.0 in /usr/local/lib/python3.6/dist-packages (from catboost) (1.0.4)\n",
            "Requirement already satisfied: matplotlib in /usr/local/lib/python3.6/dist-packages (from catboost) (3.2.1)\n",
            "Requirement already satisfied: scipy in /usr/local/lib/python3.6/dist-packages (from catboost) (1.4.1)\n",
            "Requirement already satisfied: retrying>=1.3.3 in /usr/local/lib/python3.6/dist-packages (from plotly->catboost) (1.3.3)\n",
            "Requirement already satisfied: python-dateutil>=2.6.1 in /usr/local/lib/python3.6/dist-packages (from pandas>=0.24.0->catboost) (2.8.1)\n",
            "Requirement already satisfied: pytz>=2017.2 in /usr/local/lib/python3.6/dist-packages (from pandas>=0.24.0->catboost) (2018.9)\n",
            "Requirement already satisfied: cycler>=0.10 in /usr/local/lib/python3.6/dist-packages (from matplotlib->catboost) (0.10.0)\n",
            "Requirement already satisfied: kiwisolver>=1.0.1 in /usr/local/lib/python3.6/dist-packages (from matplotlib->catboost) (1.2.0)\n",
            "Requirement already satisfied: pyparsing!=2.0.4,!=2.1.2,!=2.1.6,>=2.0.1 in /usr/local/lib/python3.6/dist-packages (from matplotlib->catboost) (2.4.7)\n"
          ],
          "name": "stdout"
        }
      ]
    },
    {
      "cell_type": "markdown",
      "metadata": {
        "id": "ka8zvlPjxJmq",
        "colab_type": "text"
      },
      "source": [
        "# Ranking"
      ]
    },
    {
      "cell_type": "code",
      "metadata": {
        "id": "9QtluKFNIVxk",
        "colab_type": "code",
        "colab": {}
      },
      "source": [
        "\n",
        "class Singleton(type):\n",
        "    _instances = {}  # type: ignore\n",
        "\n",
        "    def __call__(cls, *args, **kwargs):\n",
        "        if cls not in cls._instances:\n",
        "            cls._instances[cls] = super(Singleton, cls).__call__(*args, **kwargs)\n",
        "        return cls._instances[cls]\n",
        "\n",
        "\n",
        "class Config(metaclass=Singleton):\n",
        "\n",
        "    @staticmethod\n",
        "    def home_aibolit_folder():\n",
        "        return os.environ.get('HOME_AIBOLIT') or '/home/jovyan/aibolit'\n",
        "\n",
        "    @staticmethod\n",
        "    def folder_to_save_model_data():\n",
        "        model_folder = Path(Config().home_aibolit_folder(), 'aibolit', 'binary_files')\n",
        "        return os.environ.get('SAVE_MODEL_FOLDER') or model_folder\n",
        "\n",
        "    @staticmethod\n",
        "    def folder_model_data():\n",
        "        dir_path = os.path.dirname(os.path.realpath(__file__))\n",
        "        model_file = Path(Path(dir_path), 'binary_files', 'model.pkl')\n",
        "        return os.environ.get('HOME_MODEL_FOLDER') or model_file\n",
        "\n",
        "    @staticmethod\n",
        "    def dataset_file():\n",
        "        return 'dataset12.csv'\n",
        "\n",
        "    @staticmethod\n",
        "    def get_patterns_config():\n",
        "        return {\n",
        "            \"patterns\": [\n",
        "                {\"name\": \"Asserts\", \"code\": \"P1\", \"make\": lambda: P1()},\n",
        "                {\"name\": \"Setters\", \"code\": \"P2\", \"make\": lambda: P2()},\n",
        "                {\"name\": \"Empty Rethrow\", \"code\": \"P3\", \"make\": lambda: P3()},\n",
        "                {\"name\": \"Prohibited class name\", \"code\": \"P4\", \"make\": lambda: P4()},\n",
        "                {\"name\": \"Force Type Casting\", \"code\": \"P5\", \"make\": lambda: P5()},\n",
        "                {\"name\": \"Count If Return\", \"code\": \"P6\", \"make\": lambda: P6()},\n",
        "                {\"name\": \"Implements Multi\", \"code\": \"P7\", \"make\": lambda: P7()},\n",
        "                {\"name\": \"Instance of\", \"code\": \"P8\", \"make\": lambda: P8()},\n",
        "                {\"name\": \"Many primary constructors\", \"code\": \"P9\", \"make\": lambda: P9()},\n",
        "                {\"name\": \"Method chain\", \"code\": \"P10\", \"make\": lambda: P10()},\n",
        "                {\"name\": \"Multiple try\", \"code\": \"P11\", \"make\": lambda: P11()},\n",
        "                {\"name\": \"Non final attribute\", \"code\": \"P12\", \"make\": lambda: P12()},\n",
        "                {\"name\": \"Null check\", \"code\": \"P13\", \"make\": lambda: P13()},\n",
        "                {\"name\": \"Partial synchronized\", \"code\": \"P14\", \"make\": lambda: P14()},\n",
        "                {\"name\": \"Redundant catch\", \"code\": \"P15\", \"make\": lambda: P15()},\n",
        "                {\"name\": \"Return null\", \"code\": \"P16\", \"make\": lambda: P16()},\n",
        "                {\"name\": \"String concat\", \"code\": \"P17\", \"make\": lambda: P17()},\n",
        "                {\"name\": \"Super Method\", \"code\": \"P18\", \"make\": lambda: P18()},\n",
        "                {\"name\": \"This in constructor\", \"code\": \"P19\", \"make\": lambda: P19()},\n",
        "                {\n",
        "                    \"name\": \"Var declaration distance for 5 lines\",\n",
        "                    \"code\": \"P20_5\",\n",
        "                    \"make\": lambda: P20(5)\n",
        "                },\n",
        "                {\n",
        "                    \"name\": \"Var declaration distance for 7 lines\",\n",
        "                    \"code\": \"P20_7\",\n",
        "                    \"make\": lambda: P20(7)\n",
        "                },\n",
        "                {\n",
        "                    \"name\": \"Var declaration distance for 11 lines\",\n",
        "                    \"code\": \"P20_11\",\n",
        "                    \"make\": lambda: P20(11)\n",
        "                },\n",
        "                {\"name\": \"Var in the middle\", \"code\": \"P21\", \"make\": lambda: P21()},\n",
        "                {\"name\": \"Array as function argument\", \"code\": \"P22\", \"make\": lambda: P22()},\n",
        "                {\"name\": \"Joined validation\", \"code\": \"P23\", \"make\": lambda: P23()},\n",
        "                {\"name\": \"Non final class\", \"code\": \"P24\", \"make\": lambda: P24()},\n",
        "                {\"name\": \"Private static method\", \"code\": \"P25\", \"make\": lambda: P25()},\n",
        "                {\"name\": \"Public static method\", \"code\": \"P26\", \"make\": lambda: P26()},\n",
        "                {\"name\": \"Var siblings\", \"code\": \"P27\", \"make\": lambda: P27()},\n",
        "                {\"name\": \"Null Assignment\", \"code\": \"P28\", \"make\": lambda: P28()},\n",
        "                {\"name\": \"Multiple While\", \"code\": \"P29\", \"make\": lambda: P29()},\n",
        "                {\"name\": \"Protected Method\", \"code\": \"P30\", \"make\": lambda: P30()},\n",
        "                {\"name\": \"Send Null\", \"code\": \"P31\", \"make\": lambda: P31()},\n",
        "                {\"name\": \"Nested Loop\", \"code\": \"P32\", \"make\": lambda: P32()},\n",
        "                # Dirty fix, TODO remove when the model will be retrained\n",
        "                {\"name\": \"Multiple While\", \"code\": \"P33\", \"make\": lambda: P29()},\n",
        "            ],\n",
        "            \"metrics\": [\n",
        "                {\"name\": \"Entropy\", \"code\": \"M1\", \"make\": lambda: M1()},\n",
        "                {\"name\": \"NCSS lightweight\", \"code\": \"M2\", \"make\": lambda: M2()},\n",
        "                {\n",
        "                    \"name\": \"Indentation counter: Right total variance\",\n",
        "                    \"code\": \"M3_1\",\n",
        "                    \"make\": lambda: M3(right_var=True)\n",
        "                },\n",
        "                {\n",
        "                    \"name\": \"Indentation counter: Left total variance\",\n",
        "                    \"code\": \"M3_2\",\n",
        "                    \"make\": lambda: M3(left_var=True)\n",
        "                },\n",
        "                {\n",
        "                    \"name\": \"Indentation counter: Right max variance\",\n",
        "                    \"code\": \"M3_3\",\n",
        "                    \"make\": lambda: M3(max_right=True)\n",
        "                },\n",
        "                {\n",
        "                    \"name\": \"Indentation counter: Left max variance\",\n",
        "                    \"code\": \"M3_4\",\n",
        "                    \"make\": lambda: M3(max_left=True)\n",
        "                },\n",
        "                {\"name\": \"Cognitive Complexity\", \"code\": \"M4\", \"make\": lambda: M4()},\n",
        "                {\"name\": \"LCOM4\", \"code\": \"M5\", \"make\": lambda: M5()},\n",
        "                {\"name\": \"Max diameter of AST\", \"code\": \"M6\", \"make\": lambda: M6()},\n",
        "                {\"name\": \"Number of variables\", \"code\": \"M7\", \"make\": lambda: M7()}\n",
        "            ],\n",
        "            \"target\": {\n",
        "\n",
        "            },\n",
        "            \"patterns_exclude\": [\n",
        "                \"P27\",  # empty implementation\n",
        "            ],\n",
        "            \"metrics_exclude\": []\n",
        "        }"
      ],
      "execution_count": 0,
      "outputs": []
    },
    {
      "cell_type": "code",
      "metadata": {
        "id": "AfajTajgH5zd",
        "colab_type": "code",
        "colab": {}
      },
      "source": [
        "from typing import List\n",
        "\n",
        "import numpy as np\n",
        "import pandas as pd\n",
        "from catboost import CatBoost\n",
        "from sklearn.base import BaseEstimator\n",
        "from sklearn.preprocessing import StandardScaler\n",
        "\n",
        "\n",
        "\n",
        "class Dataset:\n",
        "    def __init__(self, only_patterns: List[str]):\n",
        "        self.input = None\n",
        "        self.target = None\n",
        "        self.do_rename_columns = False\n",
        "        self.only_patterns = only_patterns\n",
        "\n",
        "    def preprocess_file(\n",
        "            self,\n",
        "            scale_ncss=True,\n",
        "            scale=False,\n",
        "            **kwargs):\n",
        "\n",
        "        print('reading dataset from {}'.format(Config.dataset_file()))\n",
        "        df = pd.read_csv(Config.dataset_file())\n",
        "        df = df[~df[\"filename\"].str.lower().str.contains(\"test\")]\n",
        "        config = Config.get_patterns_config()\n",
        "        if self.do_rename_columns:\n",
        "            p_codes = \\\n",
        "                [x['code'] for x in config['patterns']] \\\n",
        "                + ['lines' + x['code'] for x in config['patterns']]\n",
        "            m_codes = [x['code'] for x in config['metrics']]\n",
        "            keys = p_codes + m_codes\n",
        "            vals = \\\n",
        "                [x['name'] for x in config['patterns']] \\\n",
        "                + ['lines' + x['name'] for x in config['patterns']] \\\n",
        "                + [x['name'] for x in config['metrics']]\n",
        "\n",
        "            replace_dict = dict(zip(keys, vals))\n",
        "            df = df.rename(replace_dict)\n",
        "            df.columns = vals\n",
        "            print('Columns renamed:' + df.head())\n",
        "\n",
        "        df = df.dropna().drop_duplicates(subset=df.columns.difference(['filename']))\n",
        "        df = df[(df.ncss > 20) & (df.ncss < 100) & (df.npath_method_avg < 100000.00)].copy().reset_index()\n",
        "\n",
        "        df.drop('filename', axis=1, inplace=True)\n",
        "        df.drop('index', axis=1, inplace=True)\n",
        "        self.target = np.array(df[['M4']].values[:, 0], dtype=np.float64)\n",
        "        if scale_ncss:\n",
        "            new = pd.DataFrame(\n",
        "                df[self.only_patterns].values / df['M2'].values.reshape((-1, 1)),\n",
        "                columns=self.only_patterns\n",
        "            )\n",
        "            self.target /= df['M2'].values.reshape(-1)\n",
        "        else:\n",
        "            new = df[self.only_patterns].copy()\n",
        "        if scale:\n",
        "            self.input = pd.DataFrame(StandardScaler().fit_transform(new.values), columns=new.columns,\n",
        "                                      index=new.index).values\n",
        "        else:\n",
        "            self.input = new.values\n",
        "\n",
        "        self.feature_order = list(new.columns)\n",
        "\n",
        "\n",
        "class TwoFoldRankingModel(BaseEstimator):\n",
        "    def __init__(self, pca_components=None):\n",
        "        self.do_rename_columns = False\n",
        "        self.model = None\n",
        "        self.features_conf = None\n",
        "        self.pca_components = pca_components\n",
        "        self.pca = None\n",
        "\n",
        "    def fit(self, X, y, display=False):\n",
        "        \"\"\"\n",
        "        Args:\n",
        "            X: np.array with shape (number of snippets, number of patterns) or\n",
        "                (number of patterns, ).\n",
        "            y: np.array with shape (number of snippets,), array of snippets'\n",
        "                complexity metric values\n",
        "            display: bool, to output info about training or not\n",
        "        \"\"\"\n",
        "\n",
        "\n",
        "        if self.pca_components is not None:\n",
        "            X = X.copy()\n",
        "            self.pca = PCA(n_components=self.pca_components)\n",
        "            X = self.pca.fit_transform(X)\n",
        "\n",
        "        \n",
        "        model = CatBoost()\n",
        "        grid = {'learning_rate': [0.03, 0.1],\n",
        "                'depth': [4, 6, 10],\n",
        "                'l2_leaf_reg': [1, 3, 5, 7, 9]}\n",
        "        model.grid_search(\n",
        "            grid,\n",
        "            X=X,\n",
        "            y=y,\n",
        "            verbose=display,\n",
        "        )\n",
        "        self.model = model\n",
        "        self.model.fit(X, y.ravel(), logging_level='Silent')\n",
        "\n",
        "    def __get_pairs(self, item, th: float):\n",
        "        def sigmoid(x):\n",
        "            return 1 / (1 + np.exp(-x))\n",
        "\n",
        "        pattern_importances = item * self.model.feature_importances_\n",
        "        # mask discards not significant patterns\n",
        "        th_mask = (sigmoid(pattern_importances) <= th) + 0\n",
        "        pattern_importances = pattern_importances * th_mask\n",
        "        order = np.arange(self.model.feature_importances_.size)\n",
        "        return (pattern_importances, order)\n",
        "\n",
        "    def __vstack_arrays(self, res):\n",
        "        return np.vstack(res).T\n",
        "\n",
        "    def predict(self, X, return_acts=False, quantity_func='log', th=1.0):\n",
        "        \"\"\"\n",
        "        Args:\n",
        "            X: np.array with shape (number of snippets, number of patterns) or\n",
        "                (number of patterns, ).\n",
        "            quantity_func: str, type of function that will be applied to\n",
        "                number of occurrences.\n",
        "            th (float): Sensitivity of algorithm to recommend.\n",
        "                0 - ignore all recomendations\n",
        "                1 - use all recommendations\n",
        "        Returns:\n",
        "            ranked: np.array with shape (number of snippets, number of patterns)\n",
        "                of sorted patterns in non-increasing order for each snippet of\n",
        "                code.\n",
        "        \"\"\"\n",
        "\n",
        "        if X.ndim == 1:\n",
        "            X = X.copy()\n",
        "            X = np.expand_dims(X, axis=0)\n",
        "\n",
        "        ranked = []\n",
        "        quantity_funcs = {\n",
        "            'log': lambda x: np.log1p(x) / np.log(10),\n",
        "            'exp': lambda x: np.exp(x + 1),\n",
        "            'linear': lambda x: x,\n",
        "        }\n",
        "\n",
        "        for snippet in X:\n",
        "            try:\n",
        "                item = quantity_funcs[quantity_func](snippet)\n",
        "                pairs = self.__vstack_arrays(self.__get_pairs(item, th))\n",
        "                pairs = pairs[pairs[:, 0].argsort()]\n",
        "                ranked.append(pairs[:, 1].T.tolist()[::-1])\n",
        "            except Exception:\n",
        "                raise Exception(\"Unknown func\")\n",
        "\n",
        "        if not return_acts:\n",
        "            return (np.array(ranked), pairs[:, 0].T.tolist()[::-1])\n",
        "        return np.array(ranked), pairs[:, 0].T.tolist()[::-1], np.zeros(X.shape[0]) - 1\n",
        "\n",
        "    def get_array(self, X, mask, i, incr):\n",
        "        \"\"\"\n",
        "        Args:\n",
        "            X: np.array with shape (number of snippets, number of patterns).\n",
        "            mask: np.array with shape (number of snippets, number of patterns).\n",
        "            i: int, 0 <= i < number of patterns.\n",
        "            add: bool.\n",
        "        Returns:\n",
        "            X1: modified np.array with shape (number of snippets, number of patterns).\n",
        "        \"\"\"\n",
        "\n",
        "        X1 = X.copy()\n",
        "        X1[:, i][mask[:, i]] += incr\n",
        "\n",
        "        return X1\n",
        "\n",
        "    def get_minimum(self, c1, c2, c3):\n",
        "        \"\"\"\n",
        "        Args:\n",
        "            c1, c2, c3: np.array with shape (number of snippets, ).\n",
        "        Returns:\n",
        "            c: np.array with shape (number of snippets, ) -\n",
        "            elemental minimum of 3 arrays.\n",
        "            number: np.array with shape (number of snippets, ) of\n",
        "            arrays' numbers with minimum elements.            .\n",
        "        \"\"\"\n",
        "\n",
        "        c = np.vstack((c1, c2, c3))\n",
        "\n",
        "        return np.min(c, 0), np.argmin(c, 0)\n",
        "\n",
        "    def informative(self, X, return_acts=False):\n",
        "        \"\"\"\n",
        "        Args:\n",
        "            X: np.array with shape (number of snippets, number of patterns) or\n",
        "                (number of patterns, ).\n",
        "        Returns:\n",
        "            ranked: np.array with shape (number of snippets, number of patterns)\n",
        "                of sorted patterns in non-increasing order for each snippet of\n",
        "                code.\n",
        "            acts: np.array with shape (number of snippets, ) of\n",
        "            numbers of necessary actions for complexity's decrement.\n",
        "            0 - do not modify the pattern, 1 - decrease by 1, 2 - increase by 1.\n",
        "        \"\"\"\n",
        "\n",
        "        if X.ndim == 1:\n",
        "            X = X.copy()\n",
        "            X = np.expand_dims(X, axis=0)\n",
        "        \n",
        "        k = X.shape[1]\n",
        "        complexity = self.model.predict(X)\n",
        "        mask = X > 0\n",
        "        importances = np.zeros(X.shape)\n",
        "        actions = np.zeros(X.shape)\n",
        "        for i in range(k):\n",
        "            complexity_minus = self.model.predict(self.pca.transform(self.get_array(X, mask, i, -1)))\n",
        "            complexity_plus = self.model.predict(self.pca.transform(self.get_array(X, mask, i, 1)))\n",
        "            c, number = self.get_minimum(complexity, complexity_minus, complexity_plus)\n",
        "            importances[:, i] = complexity - c\n",
        "            actions[:, i] = number\n",
        "\n",
        "        ranked = np.argsort(-1 * importances, 1)\n",
        "        if not return_acts:\n",
        "            return ranked, importances\n",
        "        acts = actions[np.argsort(ranked, 1) == 0]\n",
        "        return ranked, importances, acts"
      ],
      "execution_count": 0,
      "outputs": []
    },
    {
      "cell_type": "code",
      "metadata": {
        "id": "XvYUeUIvL3AG",
        "colab_type": "code",
        "colab": {}
      },
      "source": [
        "config = Config.get_patterns_config()\n",
        "only_patterns = [\n",
        "    x['code'] for x in list(config['patterns'])\n",
        "    if x['code'] not in config['patterns_exclude']\n",
        "][:-3]"
      ],
      "execution_count": 0,
      "outputs": []
    },
    {
      "cell_type": "code",
      "metadata": {
        "id": "uu2E3axyOfDy",
        "colab_type": "code",
        "outputId": "19d5faa1-01d2-4e44-e456-60cf126f86f8",
        "colab": {
          "base_uri": "https://localhost:8080/",
          "height": 85
        }
      },
      "source": [
        "DS = Dataset(only_patterns)\n",
        "DS.preprocess_file()"
      ],
      "execution_count": 0,
      "outputs": [
        {
          "output_type": "stream",
          "text": [
            "reading dataset from dataset12.csv\n"
          ],
          "name": "stdout"
        },
        {
          "output_type": "stream",
          "text": [
            "/usr/local/lib/python3.6/dist-packages/IPython/core/interactiveshell.py:2828: DtypeWarning: Columns (52) have mixed types.Specify dtype option on import or set low_memory=False.\n",
            "  if self.run_code(code, result):\n"
          ],
          "name": "stderr"
        }
      ]
    },
    {
      "cell_type": "code",
      "metadata": {
        "id": "P_glQ3K8ObQw",
        "colab_type": "code",
        "colab": {}
      },
      "source": [
        "X_train, X_test, y_train, y_test = train_test_split(DS.input, DS.target, test_size=0.3, random_state=42)"
      ],
      "execution_count": 0,
      "outputs": []
    },
    {
      "cell_type": "code",
      "metadata": {
        "id": "vrL5PhumOnLq",
        "colab_type": "code",
        "outputId": "3830fa8f-b09a-4cfb-908c-645c68a39087",
        "colab": {
          "base_uri": "https://localhost:8080/",
          "height": 1000
        }
      },
      "source": [
        "%%time\n",
        "\n",
        "TF = TwoFoldRankingModel()\n",
        "TF.fit(X_train, y_train)"
      ],
      "execution_count": 0,
      "outputs": [
        {
          "output_type": "stream",
          "text": [
            "\n",
            "bestTest = 0.1411194987\n",
            "bestIteration = 993\n",
            "\n",
            "\n",
            "bestTest = 0.1398660903\n",
            "bestIteration = 992\n",
            "\n",
            "\n",
            "bestTest = 0.1412604285\n",
            "bestIteration = 999\n",
            "\n",
            "\n",
            "bestTest = 0.1400141157\n",
            "bestIteration = 939\n",
            "\n",
            "\n",
            "bestTest = 0.1414164835\n",
            "bestIteration = 999\n",
            "\n",
            "\n",
            "bestTest = 0.1398469357\n",
            "bestIteration = 994\n",
            "\n",
            "\n",
            "bestTest = 0.1417569877\n",
            "bestIteration = 999\n",
            "\n",
            "\n",
            "bestTest = 0.1401428985\n",
            "bestIteration = 998\n",
            "\n",
            "\n",
            "bestTest = 0.1418186641\n",
            "bestIteration = 996\n",
            "\n",
            "\n",
            "bestTest = 0.1400678936\n",
            "bestIteration = 993\n",
            "\n",
            "\n",
            "bestTest = 0.1393679238\n",
            "bestIteration = 999\n",
            "\n",
            "\n",
            "bestTest = 0.1388594128\n",
            "bestIteration = 874\n",
            "\n",
            "\n",
            "bestTest = 0.1396057239\n",
            "bestIteration = 999\n",
            "\n",
            "\n",
            "bestTest = 0.1384221721\n",
            "bestIteration = 981\n",
            "\n",
            "\n",
            "bestTest = 0.1397453705\n",
            "bestIteration = 997\n",
            "\n",
            "\n",
            "bestTest = 0.138553496\n",
            "bestIteration = 998\n",
            "\n",
            "\n",
            "bestTest = 0.1400672489\n",
            "bestIteration = 999\n",
            "\n",
            "\n",
            "bestTest = 0.1388205045\n",
            "bestIteration = 996\n",
            "\n",
            "\n",
            "bestTest = 0.1401500603\n",
            "bestIteration = 999\n",
            "\n",
            "\n",
            "bestTest = 0.1383719009\n",
            "bestIteration = 988\n",
            "\n",
            "\n",
            "bestTest = 0.1369500717\n",
            "bestIteration = 998\n",
            "\n",
            "\n",
            "bestTest = 0.1374581968\n",
            "bestIteration = 488\n",
            "\n",
            "\n",
            "bestTest = 0.13714947\n",
            "bestIteration = 993\n",
            "\n",
            "\n",
            "bestTest = 0.1368097224\n",
            "bestIteration = 743\n",
            "\n",
            "\n",
            "bestTest = 0.1374525825\n",
            "bestIteration = 999\n",
            "\n",
            "\n",
            "bestTest = 0.1365570027\n",
            "bestIteration = 994\n",
            "\n",
            "\n",
            "bestTest = 0.1381530904\n",
            "bestIteration = 998\n",
            "\n",
            "\n",
            "bestTest = 0.1371018885\n",
            "bestIteration = 774\n",
            "\n",
            "\n",
            "bestTest = 0.1382907676\n",
            "bestIteration = 999\n",
            "\n",
            "\n",
            "bestTest = 0.1372905981\n",
            "bestIteration = 851\n",
            "\n",
            "CPU times: user 51min 5s, sys: 1min 21s, total: 52min 27s\n",
            "Wall time: 15min 8s\n"
          ],
          "name": "stdout"
        }
      ]
    },
    {
      "cell_type": "code",
      "metadata": {
        "id": "HhkJinrQjysa",
        "colab_type": "code",
        "outputId": "efbbd2c0-ce91-4f8d-c32c-6713bc5997ce",
        "colab": {
          "base_uri": "https://localhost:8080/",
          "height": 1000
        }
      },
      "source": [
        "%%time\n",
        "\n",
        "TF_pca = TwoFoldRankingModel(pca_components=10)\n",
        "TF_pca.fit(X_train, y_train)"
      ],
      "execution_count": 0,
      "outputs": [
        {
          "output_type": "stream",
          "text": [
            "\n",
            "bestTest = 0.1482967043\n",
            "bestIteration = 998\n",
            "\n",
            "\n",
            "bestTest = 0.1472112609\n",
            "bestIteration = 897\n",
            "\n",
            "\n",
            "bestTest = 0.1482083061\n",
            "bestIteration = 999\n",
            "\n",
            "\n",
            "bestTest = 0.1468007286\n",
            "bestIteration = 741\n",
            "\n",
            "\n",
            "bestTest = 0.1481786117\n",
            "bestIteration = 999\n",
            "\n",
            "\n",
            "bestTest = 0.1470866525\n",
            "bestIteration = 651\n",
            "\n",
            "\n",
            "bestTest = 0.1482601364\n",
            "bestIteration = 999\n",
            "\n",
            "\n",
            "bestTest = 0.1469795317\n",
            "bestIteration = 953\n",
            "\n",
            "\n",
            "bestTest = 0.1482856306\n",
            "bestIteration = 999\n",
            "\n",
            "\n",
            "bestTest = 0.1471327052\n",
            "bestIteration = 776\n",
            "\n",
            "\n",
            "bestTest = 0.1466185082\n",
            "bestIteration = 998\n",
            "\n",
            "\n",
            "bestTest = 0.1463876415\n",
            "bestIteration = 929\n",
            "\n",
            "\n",
            "bestTest = 0.1466347656\n",
            "bestIteration = 990\n",
            "\n",
            "\n",
            "bestTest = 0.145989483\n",
            "bestIteration = 870\n",
            "\n",
            "\n",
            "bestTest = 0.1466388787\n",
            "bestIteration = 999\n",
            "\n",
            "\n",
            "bestTest = 0.1462128087\n",
            "bestIteration = 610\n",
            "\n",
            "\n",
            "bestTest = 0.1468989903\n",
            "bestIteration = 994\n",
            "\n",
            "\n",
            "bestTest = 0.1467153444\n",
            "bestIteration = 623\n",
            "\n",
            "\n",
            "bestTest = 0.1468203254\n",
            "bestIteration = 987\n",
            "\n",
            "\n",
            "bestTest = 0.1464604222\n",
            "bestIteration = 554\n",
            "\n",
            "\n",
            "bestTest = 0.1449700541\n",
            "bestIteration = 928\n",
            "\n",
            "\n",
            "bestTest = 0.1453189116\n",
            "bestIteration = 194\n",
            "\n",
            "\n",
            "bestTest = 0.1449966278\n",
            "bestIteration = 967\n",
            "\n",
            "\n",
            "bestTest = 0.1453395642\n",
            "bestIteration = 370\n",
            "\n",
            "\n",
            "bestTest = 0.1447170056\n",
            "bestIteration = 883\n",
            "\n",
            "\n",
            "bestTest = 0.1452655713\n",
            "bestIteration = 439\n",
            "\n",
            "\n",
            "bestTest = 0.1448932933\n",
            "bestIteration = 997\n",
            "\n",
            "\n",
            "bestTest = 0.1454947673\n",
            "bestIteration = 632\n",
            "\n",
            "\n",
            "bestTest = 0.145059656\n",
            "bestIteration = 991\n",
            "\n",
            "\n",
            "bestTest = 0.1451998099\n",
            "bestIteration = 368\n",
            "\n",
            "CPU times: user 23min 17s, sys: 58.8 s, total: 24min 15s\n",
            "Wall time: 8min 21s\n"
          ],
          "name": "stdout"
        }
      ]
    },
    {
      "cell_type": "markdown",
      "metadata": {
        "id": "4KrPn9oVMR7t",
        "colab_type": "text"
      },
      "source": [
        "------------------------------------"
      ]
    },
    {
      "cell_type": "code",
      "metadata": {
        "id": "uIHxDTiPoahw",
        "colab_type": "code",
        "colab": {}
      },
      "source": [
        "y_pred = TF.informative(X_test)\n",
        "y_pred_pca = TF_pca.informative(X_test)"
      ],
      "execution_count": 0,
      "outputs": []
    },
    {
      "cell_type": "code",
      "metadata": {
        "id": "39hZLPNhomIW",
        "colab_type": "code",
        "outputId": "38ebbd17-6e14-415b-bcde-7a327f5bb8a5",
        "colab": {
          "base_uri": "https://localhost:8080/",
          "height": 590
        }
      },
      "source": [
        "plt.figure(figsize=(18,10))\n",
        "\n",
        "sns.distplot(y_pred[0][:,1], label='without compression')\n",
        "sns.distplot(y_pred_pca[0][:,1], label='with pca')\n",
        "\n",
        "plt.legend()\n",
        "plt.grid(True)\n",
        "plt.show()"
      ],
      "execution_count": 0,
      "outputs": [
        {
          "output_type": "display_data",
          "data": {
            "image/png": "[encoded data removed]",
            "text/plain": [
              "<Figure size 1296x720 with 1 Axes>"
            ]
          },
          "metadata": {
            "tags": [],
            "needs_background": "light"
          }
        }
      ]
    },
    {
      "cell_type": "code",
      "metadata": {
        "id": "EKRTpGgUpRgq",
        "colab_type": "code",
        "outputId": "c2a72814-882b-46be-c5e3-4855d31663a6",
        "colab": {
          "base_uri": "https://localhost:8080/",
          "height": 49
        }
      },
      "source": [
        "TF_pca.pca.explained_variance_ratio_"
      ],
      "execution_count": 0,
      "outputs": [
        {
          "output_type": "execute_result",
          "data": {
            "text/plain": [
              "array([0.27534492, 0.16630668, 0.08855856, 0.07940894, 0.06663356,\n",
              "       0.06015316, 0.05201745, 0.04469734, 0.02858568, 0.02557525])"
            ]
          },
          "metadata": {
            "tags": []
          },
          "execution_count": 57
        }
      ]
    },
    {
      "cell_type": "code",
      "metadata": {
        "id": "pnP7yTIwxXa8",
        "colab_type": "code",
        "colab": {
          "base_uri": "https://localhost:8080/",
          "height": 32
        },
        "outputId": "ca581fbf-494b-4967-bcce-9c6a7fdcda2f"
      },
      "source": [
        "from scipy.stats import pearsonr\n",
        "\n",
        "np.random.normal(mu, sigma, A.shape[1])\n",
        "\n",
        "pearsonr(a, b)"
      ],
      "execution_count": 7,
      "outputs": [
        {
          "output_type": "execute_result",
          "data": {
            "text/plain": [
              "(-0.16338781052020734, 0.8366121894797927)"
            ]
          },
          "metadata": {
            "tags": []
          },
          "execution_count": 7
        }
      ]
    },
    {
      "cell_type": "code",
      "metadata": {
        "id": "LaD9k2uxga2d",
        "colab_type": "code",
        "colab": {
          "base_uri": "https://localhost:8080/",
          "height": 32
        },
        "outputId": "6cf02f25-745e-4587-a274-19a66db7c5df"
      },
      "source": [
        "import numpy as np\n",
        "from scipy.linalg import eigh, cholesky\n",
        "from scipy.stats import norm\n",
        "\n",
        "from pylab import plot, show, axis, subplot, xlabel, ylabel, grid\n",
        "\n",
        "\n",
        "num_samples = 400\n",
        "\n",
        "r = np.array([\n",
        "        [  3.40, -2.75, -2.00],\n",
        "        [ -2.75,  5.50,  1.50],\n",
        "        [ -2.00,  1.50,  1.25]\n",
        "    ])\n",
        "\n",
        "x = norm.rvs(size=(3, num_samples))\n",
        "c = cholesky(r, lower=True)\n",
        "\n",
        "y = np.dot(c, x)"
      ],
      "execution_count": 17,
      "outputs": [
        {
          "output_type": "execute_result",
          "data": {
            "text/plain": [
              "(-0.9711905777103648, 5.160901582242309e-250)"
            ]
          },
          "metadata": {
            "tags": []
          },
          "execution_count": 17
        }
      ]
    },
    {
      "cell_type": "code",
      "metadata": {
        "id": "UesX6kbVm86N",
        "colab_type": "code",
        "colab": {}
      },
      "source": [
        "import random\n",
        "\n",
        "random_zeros_idxs1 = random.sample(range(num_samples), num_samples * 9 // 10)\n",
        "random_zeros_idxs2 = random.sample(range(num_samples), num_samples // 2)"
      ],
      "execution_count": 0,
      "outputs": []
    },
    {
      "cell_type": "code",
      "metadata": {
        "id": "apv-B_63h13Z",
        "colab_type": "code",
        "colab": {
          "base_uri": "https://localhost:8080/",
          "height": 49
        },
        "outputId": "97a4ac16-051c-45e3-a2db-c12d03429b75"
      },
      "source": [
        "a1 = x[0].copy()\n",
        "a1[random_zeros_idxs1] = 0\n",
        "\n",
        "a2 = x[1].copy()\n",
        "a2[random_zeros_idxs2] = 0\n",
        "\n",
        "b = y[0].copy()\n",
        "\n",
        "print(pearsonr(a1, b))\n",
        "print(pearsonr(a2, b))"
      ],
      "execution_count": 44,
      "outputs": [
        {
          "output_type": "stream",
          "text": [
            "(0.3310292423760147, 1.1035576820051802e-11)\n",
            "(0.04704328928381804, 0.34801782603069725)\n"
          ],
          "name": "stdout"
        }
      ]
    },
    {
      "cell_type": "code",
      "metadata": {
        "id": "iJr3rrQSmtVc",
        "colab_type": "code",
        "colab": {}
      },
      "source": [
        "A = np.vstack((a1, a2)).T\n",
        "\n",
        "model = CatBoost()\n",
        "model.fit(A, b, logging_level='Silent')"
      ],
      "execution_count": 0,
      "outputs": []
    },
    {
      "cell_type": "code",
      "metadata": {
        "id": "nrsLMVOAiE-p",
        "colab_type": "code",
        "colab": {
          "base_uri": "https://localhost:8080/",
          "height": 32
        },
        "outputId": "c587758c-ca69-4c23-ac86-5ded8f30c99d"
      },
      "source": [
        "model.feature_importances_"
      ],
      "execution_count": 48,
      "outputs": [
        {
          "output_type": "execute_result",
          "data": {
            "text/plain": [
              "array([18.22857382, 81.77142618])"
            ]
          },
          "metadata": {
            "tags": []
          },
          "execution_count": 48
        }
      ]
    }
  ]
}